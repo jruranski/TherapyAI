{
 "cells": [
  {
   "cell_type": "code",
   "execution_count": 2,
   "metadata": {},
   "outputs": [],
   "source": [
    "import pandas as pd\n",
    "import numpy as np\n",
    "import matplotlib.pyplot as plt\n",
    "import os\n"
   ]
  },
  {
   "cell_type": "code",
   "execution_count": 6,
   "metadata": {},
   "outputs": [],
   "source": [
    "import csv\n",
    "from collections import defaultdict\n",
    "\n",
    "def create_text_files_from_csv(csv_file_path):\n",
    "    # Read the CSV file and group rows by transcript_id\n",
    "    with open(csv_file_path, 'r', encoding='utf-8') as csv_file:\n",
    "        csv_reader = csv.reader(csv_file)\n",
    "        header = next(csv_reader)  # Skip the header row\n",
    "\n",
    "        conversations = defaultdict(list)\n",
    "        for row in csv_reader:\n",
    "            transcript_id = row[0]\n",
    "            interlocutor = row[6]  # Column for interlocutor\n",
    "            utterance_text = row[8]  # Column for utterance text\n",
    "            formatted_utterance = f\"{interlocutor.capitalize()}: {utterance_text}\\n\"\n",
    "            conversations[transcript_id].append(formatted_utterance)\n",
    "\n",
    "    # Create a text file for each conversation\n",
    "    for transcript_id, utterances in conversations.items():\n",
    "        with open(f'./data/conversations/conversation_{transcript_id}.txt', 'w', encoding='utf-8') as file:\n",
    "            for utterance in utterances:\n",
    "                file.write(utterance)\n",
    "\n",
    "# Replace 'path_to_your_csv.csv' with the path to your CSV file\n",
    "create_text_files_from_csv('./data/therapy_data/dataset.csv')\n"
   ]
  },
  {
   "cell_type": "code",
   "execution_count": 22,
   "metadata": {},
   "outputs": [
    {
     "ename": "SyntaxError",
     "evalue": "invalid syntax. Perhaps you forgot a comma? (<unknown>, line 1)",
     "output_type": "error",
     "traceback": [
      "Traceback \u001b[0;36m(most recent call last)\u001b[0m:\n",
      "  File \u001b[1;32m~/miniforge3/envs/torch-env/lib/python3.10/site-packages/IPython/core/interactiveshell.py:3397\u001b[0m in \u001b[1;35mrun_code\u001b[0m\n    exec(code_obj, self.user_global_ns, self.user_ns)\n",
      "  Input \u001b[1;32mIn [22]\u001b[0m in \u001b[1;35m<cell line: 22>\u001b[0m\n    create_text_files_from_csv(csv_file_path, output_directory)\n",
      "  Input \u001b[1;32mIn [22]\u001b[0m in \u001b[1;35mcreate_text_files_from_csv\u001b[0m\n    conversation_data = ast.literal_eval(row['conversations'])\n",
      "  File \u001b[1;32m~/miniforge3/envs/torch-env/lib/python3.10/ast.py:62\u001b[0m in \u001b[1;35mliteral_eval\u001b[0m\n    node_or_string = parse(node_or_string.lstrip(\" \\t\"), mode='eval')\n",
      "\u001b[0;36m  File \u001b[0;32m~/miniforge3/envs/torch-env/lib/python3.10/ast.py:50\u001b[0;36m in \u001b[0;35mparse\u001b[0;36m\u001b[0m\n\u001b[0;31m    return compile(source, filename, mode, flags,\u001b[0m\n",
      "\u001b[0;36m  File \u001b[0;32m<unknown>:1\u001b[0;36m\u001b[0m\n\u001b[0;31m    [{'from': 'human', 'value': \"I've been feeling so sad and overwhelmed lately. Work has become such a massive source of stress for me.\"}\u001b[0m\n\u001b[0m     ^\u001b[0m\n\u001b[0;31mSyntaxError\u001b[0m\u001b[0;31m:\u001b[0m invalid syntax. Perhaps you forgot a comma?\n"
     ]
    }
   ],
   "source": [
    "import csv\n",
    "import json\n",
    "import ast\n",
    "\n",
    "def create_text_files_from_csv(csv_file_path, output_directory):\n",
    "    with open(csv_file_path, 'r', encoding='utf-8') as csv_file:\n",
    "        csv_reader = csv.DictReader(csv_file)\n",
    "\n",
    "        for row in csv_reader:\n",
    "            conversation_id = row['id']\n",
    "            # Use ast.literal_eval to safely evaluate the string as a Python literal\n",
    "            conversation_data = ast.literal_eval(row['conversations'])\n",
    "\n",
    "            with open(f'{output_directory}/conversation_{conversation_id}.txt', 'w', encoding='utf-8') as file:\n",
    "                for message in conversation_data:\n",
    "                    speaker = \"Therapist\" if message['from'] == 'gpt' else \"Patient\"\n",
    "                    file.write(f\"{speaker}: {message['value']}\\n\")\n",
    "\n",
    "# Replace with your actual CSV file path and output directory\n",
    "csv_file_path = './data/therapy_data/train.csv'\n",
    "output_directory = './data/conversations_synthetic'\n",
    "create_text_files_from_csv(csv_file_path, output_directory)\n"
   ]
  },
  {
   "cell_type": "code",
   "execution_count": 27,
   "metadata": {},
   "outputs": [],
   "source": [
    "import csv\n",
    "\n",
    "def parse_conversation_string(conversation_str):\n",
    "    # Remove the outer brackets and split the string into individual message strings\n",
    "    messages_str = conversation_str.strip(\"[]\").split(\"}, {\")\n",
    "    messages = []\n",
    "\n",
    "    for message_str in messages_str:\n",
    "        # Correctly format each message string\n",
    "        message_str = message_str.replace(\"{'from': '\", \"\").replace(\"', 'value': '\", \": \", 1).replace(\"'}\", \"\")\n",
    "        if message_str.startswith(\"{\"):\n",
    "            message_str = message_str[1:]\n",
    "        if message_str.endswith(\"}\"):\n",
    "            message_str = message_str[:-1]\n",
    "\n",
    "        # Split the formatted string into speaker and message\n",
    "        speaker, message = message_str.split(\": \", 1)\n",
    "        speaker = \"Therapist\" if speaker == 'gpt' else \"Patient\"\n",
    "        messages.append(f\"{speaker}: {message}\")\n",
    "\n",
    "    return messages\n",
    "\n",
    "def create_text_files_from_csv(csv_file_path, output_directory):\n",
    "    with open(csv_file_path, 'r', encoding='utf-8') as csv_file:\n",
    "        csv_reader = csv.DictReader(csv_file)\n",
    "\n",
    "        for row in csv_reader:\n",
    "            conversation_id = row['id']\n",
    "            conversation_data = parse_conversation_string(row['conversations'])\n",
    "\n",
    "            with open(f'{output_directory}/conversation_{conversation_id}.txt', 'w', encoding='utf-8') as file:\n",
    "                for message in conversation_data:\n",
    "                    file.write(message + \"\\n\")\n",
    "\n",
    "\n",
    "                    # Replace with your actual CSV file path and output directory\n",
    "csv_file_path = './data/therapy_data/train.csv'\n",
    "output_directory = './data/conversations_synthetic'\n",
    "create_text_files_from_csv(csv_file_path, output_directory)"
   ]
  }
 ],
 "metadata": {
  "kernelspec": {
   "display_name": "torch-env",
   "language": "python",
   "name": "python3"
  },
  "language_info": {
   "codemirror_mode": {
    "name": "ipython",
    "version": 3
   },
   "file_extension": ".py",
   "mimetype": "text/x-python",
   "name": "python",
   "nbconvert_exporter": "python",
   "pygments_lexer": "ipython3",
   "version": "3.10.5"
  }
 },
 "nbformat": 4,
 "nbformat_minor": 2
}
